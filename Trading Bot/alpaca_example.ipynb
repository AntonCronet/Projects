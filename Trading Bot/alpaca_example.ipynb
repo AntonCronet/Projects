{
 "cells": [
  {
   "cell_type": "markdown",
   "id": "dd7d8bb2",
   "metadata": {},
   "source": [
    "![head.png](https://github.com/iwh-halle/FinancialDataAnalytics/blob/master/figures/head.jpg?raw=1)\n",
    "\n",
    "# Financial Data Analytics in Python\n",
    "\n",
    "**Prof. Dr. Fabian Woebbeking**</br>\n",
    "Assistant Professor of Financial Economics\n",
    "\n",
    "IWH - Leibniz Institute for Economic Research</br>\n",
    "MLU - Martin Luther University Halle-Wittenberg\n",
    "\n",
    "fabian.woebbeking@iwh-halle.de"
   ]
  },
  {
   "cell_type": "markdown",
   "id": "314e3382",
   "metadata": {},
   "source": [
    "# Getting started with Alpaca paper trading\n",
    "\n",
    "> Disclaimer: No investment advice!. I also do not endorse any software or brokerage account. Alpaca is kind enough to offer free access to their API, whether they suit your personal investment needs is for you to assess."
   ]
  },
  {
   "cell_type": "markdown",
   "id": "043c3bfd",
   "metadata": {},
   "source": [
    "## Register for an Alpaca account \n",
    "\n",
    "1. Visit [https://alpaca.markets/](https://alpaca.markets/)\n",
    "2. Creat a free account by providing your email and password \n",
    "3. After logging in, go to your \"Home\" dashboard \n",
    "4. On the home screen, make sure you’re in “Paper Trading” mode, where no real money is used (see screenshot below)\n",
    "\n",
    "![Head](res/screen_home.png)"
   ]
  },
  {
   "cell_type": "markdown",
   "id": "2a3ce483",
   "metadata": {},
   "source": [
    "## Generate API keys \n",
    "\n",
    "> Do not share your API or any other credentials, hence, do not push them to GitHub! We will use our own credentials to test your code. \n",
    "\n",
    "1. On your home scree, scroll down until you find the section labeled \"API Keys\" (see screenshot below)\n",
    "3. You will need to copy:\n",
    "  * **API Key** \n",
    "  * **API Secret** \n",
    "\n",
    "![Head](res/screen_key.png)"
   ]
  },
  {
   "cell_type": "markdown",
   "id": "f2d2f16b",
   "metadata": {},
   "source": [
    "# Test your API connection\n",
    "\n",
    "Start by adding your API credentials into the code cell below. If you want to follow best practices in securing your credentials, you should store them in a separate .ini or .env file (which should NOT be pushed to GitHub, see .gitignore). This is, you could add a file called local.ini with the following content:\n",
    "\n",
    "```INI\n",
    "[Alpaca-Paper-Trading]\n",
    "API_KEY = AddKeyHERE\n",
    "API_SECRET = AddSecretHERE\n",
    "```"
   ]
  },
  {
   "cell_type": "code",
   "execution_count": 1,
   "id": "5c8850a4",
   "metadata": {},
   "outputs": [],
   "source": [
    "import configparser\n",
    "config = configparser.ConfigParser()\n",
    "config.read('local.ini')\n",
    "API_KEY = None\n",
    "API_SECRET = None\n",
    "API_KEY    = config.get('Alpaca-Paper-Trading', 'API_KEY', fallback=API_KEY)\n",
    "API_SECRET = config.get('Alpaca-Paper-Trading', 'API_SECRET', fallback=API_SECRET)"
   ]
  },
  {
   "cell_type": "code",
   "execution_count": 2,
   "id": "e17624c4",
   "metadata": {},
   "outputs": [],
   "source": [
    "# %pip install alpaca-py  \n",
    "\n",
    "# Trading imports\n",
    "from alpaca.trading.client import TradingClient\n",
    "from alpaca.trading.requests import MarketOrderRequest, GetOrdersRequest, GetPortfolioHistoryRequest\n",
    "from alpaca.trading.enums import OrderSide, TimeInForce, QueryOrderStatus\n",
    "# Data imports\n",
    "from alpaca.data.historical import StockHistoricalDataClient\n",
    "from alpaca.data.requests import StockBarsRequest\n",
    "from alpaca.data.timeframe import TimeFrame, TimeFrameUnit\n",
    "from alpaca.data.enums import DataFeed\n",
    "# Broker imports\n",
    "from alpaca.broker.client   import BrokerClient\n",
    "\n",
    "from time import sleep"
   ]
  },
  {
   "cell_type": "code",
   "execution_count": 3,
   "id": "3efc0f00",
   "metadata": {},
   "outputs": [
    {
     "name": "stdout",
     "output_type": "stream",
     "text": [
      "Account status: AccountStatus.ACTIVE\n",
      "Cash balance:    $100000\n"
     ]
    }
   ],
   "source": [
    "# This is the API interface to access Alpaca's paper trading account\n",
    "trading_client = TradingClient(API_KEY, API_SECRET, paper=True)\n",
    "\n",
    "# Print account status & cash balance\n",
    "account = trading_client.get_account()\n",
    "print(f\"Account status: {account.status}\")\n",
    "print(f\"Cash balance:    ${account.cash}\")"
   ]
  },
  {
   "cell_type": "markdown",
   "id": "c50a2de9",
   "metadata": {},
   "source": [
    "# Broker basics\n",
    "\n",
    "Before we continue, this is your primary source of information regarding Alpaca's [Alpaca-Py](https://alpaca.markets/sdks/python/) and [API](https://docs.alpaca.markets/docs/getting-started).\n",
    "\n",
    "## Place a trade"
   ]
  },
  {
   "cell_type": "code",
   "execution_count": 9,
   "id": "a88c3d2d",
   "metadata": {},
   "outputs": [
    {
     "name": "stdout",
     "output_type": "stream",
     "text": [
      "\n",
      "Submitted order:\n",
      "  ID:     e436c8a2-295b-47ba-9cd6-8e17210950fb\n",
      "  Status: OrderStatus.ACCEPTED\n"
     ]
    }
   ],
   "source": [
    "# Create an order to BUY 5 shares of AAPL\n",
    "order_req = MarketOrderRequest(\n",
    "    symbol=\"AAPL\",\n",
    "    qty=5,\n",
    "    side=OrderSide.BUY,\n",
    "    time_in_force=TimeInForce.DAY\n",
    ")\n",
    "\n",
    "# Submit the order\n",
    "order = trading_client.submit_order(order_data=order_req)\n",
    "print(\"\\nSubmitted order:\")\n",
    "print(f\"  ID:     {order.id}\")\n",
    "print(f\"  Status: {order.status}\")"
   ]
  },
  {
   "cell_type": "code",
   "execution_count": 14,
   "id": "5915cc4e",
   "metadata": {},
   "outputs": [
    {
     "name": "stdout",
     "output_type": "stream",
     "text": [
      "Refreshed status: OrderStatus.ACCEPTED\n"
     ]
    }
   ],
   "source": [
    "# Wait for the order to be processed (might need more than 5 seconds)\n",
    "sleep(5)\n",
    "# Pull the old order (by ID) to check its status\n",
    "order = trading_client.get_order_by_id(order.id)\n",
    "print(\"Refreshed status:\", order.status)"
   ]
  },
  {
   "cell_type": "markdown",
   "id": "2f995b64",
   "metadata": {},
   "source": [
    "## Get orders and portfolio"
   ]
  },
  {
   "cell_type": "code",
   "execution_count": 15,
   "id": "76d2b0b0",
   "metadata": {},
   "outputs": [
    {
     "name": "stdout",
     "output_type": "stream",
     "text": [
      "\n",
      "Order history:\n",
      "  ID:     e436c8a2-295b-47ba-9cd6-8e17210950fb\n",
      "  Status: OrderStatus.ACCEPTED\n",
      "  Symbol: AAPL\n",
      "  Side:   OrderSide.BUY\n",
      "  Qty:    5\n",
      "  Filled: 0\n",
      "  Price:  $None\n",
      "\n"
     ]
    }
   ],
   "source": [
    "# Build orders request\n",
    "get_orders_data = GetOrdersRequest(\n",
    "    status=QueryOrderStatus.ALL,\n",
    "    limit=500,  # Last 500 orders\n",
    "    nested=True,  # include multi‐leg orders if you use options\n",
    ")\n",
    "\n",
    "# Get orders\n",
    "orders = trading_client.get_orders(filter=get_orders_data)\n",
    "\n",
    "# Print orders\n",
    "print(\"\\nOrder history:\")\n",
    "for order in orders:\n",
    "    print(f\"  ID:     {order.id}\")\n",
    "    print(f\"  Status: {order.status}\")\n",
    "    print(f\"  Symbol: {order.symbol}\")\n",
    "    print(f\"  Side:   {order.side}\")\n",
    "    print(f\"  Qty:    {order.qty}\")\n",
    "    print(f\"  Filled: {order.filled_qty}\")\n",
    "    print(f\"  Price:  ${order.filled_avg_price}\")\n",
    "    print(\"\")"
   ]
  },
  {
   "cell_type": "code",
   "execution_count": 16,
   "id": "0fcc6184",
   "metadata": {},
   "outputs": [
    {
     "name": "stdout",
     "output_type": "stream",
     "text": [
      "\n",
      "Portfolio:\n",
      "  (no open positions)\n"
     ]
    }
   ],
   "source": [
    "# Fetch current positions\n",
    "positions = trading_client.get_all_positions()\n",
    "\n",
    "# Print positions\n",
    "print(\"\\nPortfolio:\")\n",
    "if not positions:\n",
    "    print(\"  (no open positions)\")\n",
    "else:\n",
    "    for pos in positions:\n",
    "        print(f\"  {pos.symbol}: {pos.qty} shares  \"\n",
    "              f\"(avg entry ${pos.avg_entry_price},  market ${pos.market_value})\")"
   ]
  },
  {
   "cell_type": "markdown",
   "id": "8ad52e0b",
   "metadata": {},
   "source": [
    "# Obtain market data from Alpaca"
   ]
  },
  {
   "cell_type": "code",
   "execution_count": null,
   "id": "71d0b41d",
   "metadata": {},
   "outputs": [
    {
     "name": "stdout",
     "output_type": "stream",
     "text": [
      "\n",
      "Last 5 one-minute bars for AAPL:\n"
     ]
    },
    {
     "data": {
      "text/html": [
       "<div>\n",
       "<style scoped>\n",
       "    .dataframe tbody tr th:only-of-type {\n",
       "        vertical-align: middle;\n",
       "    }\n",
       "\n",
       "    .dataframe tbody tr th {\n",
       "        vertical-align: top;\n",
       "    }\n",
       "\n",
       "    .dataframe thead th {\n",
       "        text-align: right;\n",
       "    }\n",
       "</style>\n",
       "<table border=\"1\" class=\"dataframe\">\n",
       "  <thead>\n",
       "    <tr style=\"text-align: right;\">\n",
       "      <th></th>\n",
       "      <th></th>\n",
       "      <th>open</th>\n",
       "      <th>high</th>\n",
       "      <th>low</th>\n",
       "      <th>close</th>\n",
       "      <th>volume</th>\n",
       "      <th>trade_count</th>\n",
       "      <th>vwap</th>\n",
       "    </tr>\n",
       "    <tr>\n",
       "      <th>symbol</th>\n",
       "      <th>timestamp</th>\n",
       "      <th></th>\n",
       "      <th></th>\n",
       "      <th></th>\n",
       "      <th></th>\n",
       "      <th></th>\n",
       "      <th></th>\n",
       "      <th></th>\n",
       "    </tr>\n",
       "  </thead>\n",
       "  <tbody>\n",
       "    <tr>\n",
       "      <th rowspan=\"5\" valign=\"top\">AAPL</th>\n",
       "      <th>2025-05-06 12:56:00+00:00</th>\n",
       "      <td>197.90</td>\n",
       "      <td>197.90</td>\n",
       "      <td>197.90</td>\n",
       "      <td>197.90</td>\n",
       "      <td>200.0</td>\n",
       "      <td>1.0</td>\n",
       "      <td>197.900000</td>\n",
       "    </tr>\n",
       "    <tr>\n",
       "      <th>2025-05-06 13:03:00+00:00</th>\n",
       "      <td>197.69</td>\n",
       "      <td>197.69</td>\n",
       "      <td>197.69</td>\n",
       "      <td>197.69</td>\n",
       "      <td>200.0</td>\n",
       "      <td>3.0</td>\n",
       "      <td>197.690000</td>\n",
       "    </tr>\n",
       "    <tr>\n",
       "      <th>2025-05-06 13:04:00+00:00</th>\n",
       "      <td>197.63</td>\n",
       "      <td>197.64</td>\n",
       "      <td>197.63</td>\n",
       "      <td>197.64</td>\n",
       "      <td>630.0</td>\n",
       "      <td>8.0</td>\n",
       "      <td>197.637619</td>\n",
       "    </tr>\n",
       "    <tr>\n",
       "      <th>2025-05-06 13:09:00+00:00</th>\n",
       "      <td>197.50</td>\n",
       "      <td>197.50</td>\n",
       "      <td>197.50</td>\n",
       "      <td>197.50</td>\n",
       "      <td>200.0</td>\n",
       "      <td>1.0</td>\n",
       "      <td>197.500000</td>\n",
       "    </tr>\n",
       "    <tr>\n",
       "      <th>2025-05-06 13:14:00+00:00</th>\n",
       "      <td>197.34</td>\n",
       "      <td>197.34</td>\n",
       "      <td>197.32</td>\n",
       "      <td>197.32</td>\n",
       "      <td>600.0</td>\n",
       "      <td>5.0</td>\n",
       "      <td>197.330153</td>\n",
       "    </tr>\n",
       "  </tbody>\n",
       "</table>\n",
       "</div>"
      ],
      "text/plain": [
       "                                    open    high     low   close  volume  \\\n",
       "symbol timestamp                                                           \n",
       "AAPL   2025-05-06 12:56:00+00:00  197.90  197.90  197.90  197.90   200.0   \n",
       "       2025-05-06 13:03:00+00:00  197.69  197.69  197.69  197.69   200.0   \n",
       "       2025-05-06 13:04:00+00:00  197.63  197.64  197.63  197.64   630.0   \n",
       "       2025-05-06 13:09:00+00:00  197.50  197.50  197.50  197.50   200.0   \n",
       "       2025-05-06 13:14:00+00:00  197.34  197.34  197.32  197.32   600.0   \n",
       "\n",
       "                                  trade_count        vwap  \n",
       "symbol timestamp                                           \n",
       "AAPL   2025-05-06 12:56:00+00:00          1.0  197.900000  \n",
       "       2025-05-06 13:03:00+00:00          3.0  197.690000  \n",
       "       2025-05-06 13:04:00+00:00          8.0  197.637619  \n",
       "       2025-05-06 13:09:00+00:00          1.0  197.500000  \n",
       "       2025-05-06 13:14:00+00:00          5.0  197.330153  "
      ]
     },
     "metadata": {},
     "output_type": "display_data"
    }
   ],
   "source": [
    "# This is the interface to access Alpaca's historical data\n",
    "data_client = StockHistoricalDataClient(API_KEY, API_SECRET)\n",
    "\n",
    "# Create data request, here: the last 5 one-minute bars for AAPL\n",
    "bars_req = StockBarsRequest(\n",
    "    symbol_or_symbols=[\"AAPL\"],\n",
    "    timeframe=TimeFrame(1, TimeFrameUnit.Minute),\n",
    "    limit=5,  # Last 5 bars\n",
    "    feed=DataFeed.IEX  # https://www.iex.io/\n",
    ")   \n",
    "\n",
    "# Pull the data\n",
    "bars_result = data_client.get_stock_bars(bars_req)\n",
    "print(\"\\nLast 5 one-minute bars for AAPL:\")\n",
    "display(bars_result.df)"
   ]
  },
  {
   "cell_type": "code",
   "execution_count": 18,
   "id": "08f03a34",
   "metadata": {},
   "outputs": [
    {
     "data": {
      "text/html": [
       "<div>\n",
       "<style scoped>\n",
       "    .dataframe tbody tr th:only-of-type {\n",
       "        vertical-align: middle;\n",
       "    }\n",
       "\n",
       "    .dataframe tbody tr th {\n",
       "        vertical-align: top;\n",
       "    }\n",
       "\n",
       "    .dataframe thead th {\n",
       "        text-align: right;\n",
       "    }\n",
       "</style>\n",
       "<table border=\"1\" class=\"dataframe\">\n",
       "  <thead>\n",
       "    <tr style=\"text-align: right;\">\n",
       "      <th></th>\n",
       "      <th>symbol</th>\n",
       "      <th>timestamp</th>\n",
       "      <th>open</th>\n",
       "      <th>high</th>\n",
       "      <th>low</th>\n",
       "      <th>close</th>\n",
       "      <th>volume</th>\n",
       "      <th>trade_count</th>\n",
       "      <th>vwap</th>\n",
       "    </tr>\n",
       "  </thead>\n",
       "  <tbody>\n",
       "    <tr>\n",
       "      <th>0</th>\n",
       "      <td>AAPL</td>\n",
       "      <td>2025-05-06 12:56:00+00:00</td>\n",
       "      <td>197.90</td>\n",
       "      <td>197.90</td>\n",
       "      <td>197.90</td>\n",
       "      <td>197.90</td>\n",
       "      <td>200.0</td>\n",
       "      <td>1.0</td>\n",
       "      <td>197.900000</td>\n",
       "    </tr>\n",
       "    <tr>\n",
       "      <th>1</th>\n",
       "      <td>AAPL</td>\n",
       "      <td>2025-05-06 13:03:00+00:00</td>\n",
       "      <td>197.69</td>\n",
       "      <td>197.69</td>\n",
       "      <td>197.69</td>\n",
       "      <td>197.69</td>\n",
       "      <td>200.0</td>\n",
       "      <td>3.0</td>\n",
       "      <td>197.690000</td>\n",
       "    </tr>\n",
       "    <tr>\n",
       "      <th>2</th>\n",
       "      <td>AAPL</td>\n",
       "      <td>2025-05-06 13:04:00+00:00</td>\n",
       "      <td>197.63</td>\n",
       "      <td>197.64</td>\n",
       "      <td>197.63</td>\n",
       "      <td>197.64</td>\n",
       "      <td>630.0</td>\n",
       "      <td>8.0</td>\n",
       "      <td>197.637619</td>\n",
       "    </tr>\n",
       "    <tr>\n",
       "      <th>3</th>\n",
       "      <td>AAPL</td>\n",
       "      <td>2025-05-06 13:09:00+00:00</td>\n",
       "      <td>197.50</td>\n",
       "      <td>197.50</td>\n",
       "      <td>197.50</td>\n",
       "      <td>197.50</td>\n",
       "      <td>200.0</td>\n",
       "      <td>1.0</td>\n",
       "      <td>197.500000</td>\n",
       "    </tr>\n",
       "    <tr>\n",
       "      <th>4</th>\n",
       "      <td>AAPL</td>\n",
       "      <td>2025-05-06 13:14:00+00:00</td>\n",
       "      <td>197.34</td>\n",
       "      <td>197.34</td>\n",
       "      <td>197.32</td>\n",
       "      <td>197.32</td>\n",
       "      <td>600.0</td>\n",
       "      <td>5.0</td>\n",
       "      <td>197.330153</td>\n",
       "    </tr>\n",
       "  </tbody>\n",
       "</table>\n",
       "</div>"
      ],
      "text/plain": [
       "  symbol                 timestamp    open    high     low   close  volume  \\\n",
       "0   AAPL 2025-05-06 12:56:00+00:00  197.90  197.90  197.90  197.90   200.0   \n",
       "1   AAPL 2025-05-06 13:03:00+00:00  197.69  197.69  197.69  197.69   200.0   \n",
       "2   AAPL 2025-05-06 13:04:00+00:00  197.63  197.64  197.63  197.64   630.0   \n",
       "3   AAPL 2025-05-06 13:09:00+00:00  197.50  197.50  197.50  197.50   200.0   \n",
       "4   AAPL 2025-05-06 13:14:00+00:00  197.34  197.34  197.32  197.32   600.0   \n",
       "\n",
       "   trade_count        vwap  \n",
       "0          1.0  197.900000  \n",
       "1          3.0  197.690000  \n",
       "2          8.0  197.637619  \n",
       "3          1.0  197.500000  \n",
       "4          5.0  197.330153  "
      ]
     },
     "metadata": {},
     "output_type": "display_data"
    }
   ],
   "source": [
    "# Reset the index so that symbol and timestamp become columns\n",
    "bars = bars_result.df.reset_index()\n",
    "display(bars)"
   ]
  },
  {
   "cell_type": "code",
   "execution_count": 19,
   "id": "2a1f6e8f",
   "metadata": {},
   "outputs": [],
   "source": [
    "# Pull and store historical data for MSFT\n",
    "aapl_history = data_client.get_stock_bars(\n",
    "    StockBarsRequest(\n",
    "        symbol_or_symbols=[\"MSFT\"],\n",
    "        timeframe=TimeFrame(1, TimeFrameUnit.Day),\n",
    "        start=\"2023-01-01\",\n",
    "        #end=\"2023-04-15\",  # Optional, default is today\n",
    "        feed=DataFeed.IEX,  # https://www.iex.io/\n",
    "    ))\n",
    "aapl_history = aapl_history.df.reset_index()\n",
    "aapl_history.to_csv(\"data/MSFT.csv\", index=False)  # Save to CSV file"
   ]
  }
 ],
 "metadata": {
  "kernelspec": {
   "display_name": "algo-trading",
   "language": "python",
   "name": "python3"
  },
  "language_info": {
   "codemirror_mode": {
    "name": "ipython",
    "version": 3
   },
   "file_extension": ".py",
   "mimetype": "text/x-python",
   "name": "python",
   "nbconvert_exporter": "python",
   "pygments_lexer": "ipython3",
   "version": "3.12.10"
  }
 },
 "nbformat": 4,
 "nbformat_minor": 5
}
